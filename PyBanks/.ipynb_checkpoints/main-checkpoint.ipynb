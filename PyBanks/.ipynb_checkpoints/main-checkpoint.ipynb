{
 "cells": [
  {
   "cell_type": "code",
   "execution_count": 29,
   "metadata": {},
   "outputs": [],
   "source": [
    "# Import relevant csv files from library\n",
    "from pathlib import Path\n",
    "import csv\n",
    "\n",
    "# set the file path\n",
    "csvpath = Path(\"budget_data.csv\")"
   ]
  },
  {
   "cell_type": "code",
   "execution_count": 30,
   "metadata": {},
   "outputs": [],
   "source": [
    "# Set vairables required\n",
    "\n",
    "date = \"\"\n",
    "profit_losses = 0\n",
    "total_profits = 0\n",
    "total_months = 0\n",
    "change_in_profits = 0\n",
    "previous_profits = 0   \n",
    "change_in_profits_list = []\n",
    "greatest_increase = [\"\", 0]\n",
    "greatest_decrease = [\"\", 0]\n",
    "avg_change_in_profits = 0\n",
    "\n",
    "\n",
    "# Open the file path and pass through headers\n",
    "\n",
    "with open(csvpath,'r') as csvfile:\n",
    "    csvreader = csv.reader(csvfile, delimiter = \",\")\n",
    "    header = next(csvreader)\n",
    "\n",
    "# define the position of each column keeping in mind 0 is the inital position    \n",
    "    \n",
    "    for row in csvreader:\n",
    "        date  = row[0]\n",
    "        profits_losses = int(row[1])        \n",
    "\n",
    "# sum the total amount of profits as well as count the number of months\n",
    "\n",
    "        total_profits += profits_losses\n",
    "        total_months += 1\n",
    "\n",
    "# use logic to determine the average change in profits \n",
    "        \n",
    "        change_in_profits = profits_losses - previous_profits\n",
    "        change_in_profits_list.append(change_in_profits)\n",
    "        previous_profits = profits_losses\n",
    "\n",
    "# write logic to determine the greatest decrease in values as well as the greatest increase in values along with the date         \n",
    "        \n",
    "        if greatest_decrease[1] == 0:\n",
    "            greatest_decrease[1] = change_in_profits\n",
    "            greatest_decrease[0] = date\n",
    "            \n",
    "        elif greatest_decrease[1] > change_in_profits:\n",
    "            greatest_decrease[1] = change_in_profits\n",
    "            greatest_decrease[0] = date\n",
    "            \n",
    "        elif greatest_increase[1] < change_in_profits:\n",
    "            greatest_increase[1] = change_in_profits\n",
    "            greatest_increase[0] = date\n",
    "\n",
    "            \n",
    "# write formula to determine the average change in profits            \n",
    "            \n",
    "avg_change_in_profits = round(sum(change_in_profits_list[1:]) / (len(change_in_profits_list) - 1), 2)\n",
    "                "
   ]
  },
  {
   "cell_type": "code",
   "execution_count": 31,
   "metadata": {},
   "outputs": [
    {
     "name": "stdout",
     "output_type": "stream",
     "text": [
      "Financial Analysis\n",
      "--------------------\n",
      "Total Months: 86\n",
      "Total PNL: $38382578\n",
      "Average Change: $-2315.12\n",
      "Greatest Increase in Profits: Feb-2012 $1926159\n",
      "Greatest Decrease in Profits: Sep-2013 $-2196167\n"
     ]
    }
   ],
   "source": [
    "# Print statements looking Total Months, Total PNL, Avergage Change, Greatest Increase in Profits and Dates and Greetst Decrease in Profits and Dates.\n",
    "# Ensure all values are rounded to two decimal points if required and that values have the $ sign attached\n",
    "\n",
    "print(\"Financial Analysis\")\n",
    "print(\"--------------------\")\n",
    "print(f\"Total Months: {total_months}\")\n",
    "print(f\"Total PNL: ${total_profits}\")  \n",
    "print(f\"Average Change: ${avg_change_in_profits}\")\n",
    "print(f\"Greatest Increase in Profits: {greatest_increase[0]} ${greatest_increase[1]}\")\n",
    "print(f\"Greatest Decrease in Profits: {greatest_decrease[0]} ${greatest_decrease[1]}\")"
   ]
  },
  {
   "cell_type": "code",
   "execution_count": 32,
   "metadata": {},
   "outputs": [],
   "source": [
    "#Write an output file called \"output.txt in the same directory as this file printing the above statment\n",
    "\n",
    "output_path = Path(\"output.txt\")\n",
    "\n",
    "with open(output_path, \"w\") as file:\n",
    "    file.write(\"This is the output file with summary statistics:\\n\")\n",
    "    file.write(\"-----------------------------------------------\\n\")\n",
    "    file.write(\"Financial Analysis\\n\")\n",
    "    file.write(\"------------------\\n\")\n",
    "    file.write(f\"Total Months: {total_months}\\n\")\n",
    "    file.write(f\"Total PNL: ${total_profits}\\n\")\n",
    "    file.write(f\"Average Change: ${avg_change_in_profits}\\n\")\n",
    "    file.write(f\"Greatest Increase in Profits: {greatest_increase[0]} ${greatest_increase[1]}\\n\")\n",
    "    file.write(f\"Greatest Decrease in Profits: {greatest_decrease[0]} ${greatest_decrease[1]}\\n\")"
   ]
  },
  {
   "cell_type": "code",
   "execution_count": null,
   "metadata": {},
   "outputs": [],
   "source": []
  }
 ],
 "metadata": {
  "kernelspec": {
   "display_name": "Python 3",
   "language": "python",
   "name": "python3"
  },
  "language_info": {
   "codemirror_mode": {
    "name": "ipython",
    "version": 3
   },
   "file_extension": ".py",
   "mimetype": "text/x-python",
   "name": "python",
   "nbconvert_exporter": "python",
   "pygments_lexer": "ipython3",
   "version": "3.8.3"
  }
 },
 "nbformat": 4,
 "nbformat_minor": 4
}
